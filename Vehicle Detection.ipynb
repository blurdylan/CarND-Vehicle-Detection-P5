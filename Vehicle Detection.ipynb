{
 "cells": [
  {
   "cell_type": "markdown",
   "metadata": {},
   "source": [
    "# Vehicle Detection and Tracking\n",
    "In this project, I will have to write a software pipeline to identify vehicles in a video from a front-facing camera on a car.\n"
   ]
  },
  {
   "cell_type": "markdown",
   "metadata": {},
   "source": [
    "## Python Imports \n",
    "We will start by importing the various libs we need.\n",
    "I like to denormalize so 2 seperate files were created `detector.py` with a class called Detector with some HOG features and configuration, and another file named `util.py` with some useful helper functions taken from the classroom at Udacity."
   ]
  },
  {
   "cell_type": "code",
   "execution_count": 2,
   "metadata": {
    "collapsed": false
   },
   "outputs": [],
   "source": [
    "import cv2\n",
    "import numpy as np\n",
    "import os\n",
    "import argparse\n",
    "import pickle\n",
    "from util import extract_features, rgb, slide_window, draw_boxes, make_heatmap, get_hog_features, color_hist, bin_spatial\n",
    "import cv2\n",
    "import matplotlib.pyplot as plt\n",
    "import numpy as np\n",
    "from scipy.ndimage.measurements import label as label_image\n",
    "from skimage.filters.rank import windowed_histogram\n",
    "from skimage.feature import hog\n",
    "from sklearn.svm import LinearSVC\n",
    "from sklearn.preprocessing import StandardScaler\n",
    "\n",
    "# import the detector class in the detector class\n",
    "from detector import Detector\n",
    "\n",
    "import matplotlib.pyplot as plt\n",
    "from moviepy.editor import VideoFileClip\n",
    "\n",
    "# Get some helper functions from the util file containing the functions taken in the classroom\n",
    "from util import read_image, draw_boxes, rgb, write_image, convert_video_frame, make_heatmap\n",
    "import time"
   ]
  },
  {
   "cell_type": "markdown",
   "metadata": {},
   "source": [
    "# Train Classifier\n",
    "For this project, I chose to use a linear Support Vector Machine (SVM). Various background research has shown that SVM is a good compliment to HOG features."
   ]
  },
  {
   "cell_type": "code",
   "execution_count": null,
   "metadata": {
    "collapsed": false
   },
   "outputs": [
    {
     "name": "stdout",
     "output_type": "stream",
     "text": [
      "Loading vehicle images and extracting features...\n",
      "Extracted features from 8792 vehicle images\n",
      "Loading non-vehicle images and extracting features...\n",
      "Extracted features from 8968 non-vehicle images\n",
      "Training...\n",
      "True Positive Rate:  99.16%\n",
      "True Negative Rate:  99.15%\n",
      "False Positive Rate: 0.85%\n",
      "False Negative Rate: 0.84%\n",
      "Pickling classifier to classifier.p\n"
     ]
    }
   ],
   "source": [
    "try:\n",
    "    from sklearn.model_selection import train_test_split\n",
    "except:\n",
    "    from sklearn.cross_validation import train_test_split\n",
    "from util import extract_features_from_images\n",
    "import yaml\n",
    "\n",
    "non_vehicle_directory = './non-vehicles'\n",
    "vehicle_directory = './vehicles'\n",
    "\n",
    "def find_images(directory):\n",
    "    for root, dirs, files in os.walk(directory):\n",
    "        for f in files:\n",
    "            if f.split('.')[-1].lower() in ['jpg', 'png']:\n",
    "                yield os.path.join(root, f)\n",
    "\n",
    "\n",
    "feature_parameters = {\n",
    "    'cspace': 'YCrCb',\n",
    "    'spatial_size': (32, 32),\n",
    "    'hist_bins': 32,\n",
    "    'hog_orient': 9,\n",
    "    'hog_pix_per_cell': 8,\n",
    "    'hog_cell_per_block': 2,\n",
    "    'hog_channel': 'ALL'\n",
    "}\n",
    "\n",
    "print(\"Loading vehicle images and extracting features...\")\n",
    "vehicle_features = extract_features_from_images(find_images(vehicle_directory),\n",
    "                                                **feature_parameters)\n",
    "print(\"Extracted features from {} vehicle images\".format(len(vehicle_features)))\n",
    "\n",
    "print(\"Loading non-vehicle images and extracting features...\")\n",
    "non_vehicle_features = extract_features_from_images(find_images(non_vehicle_directory),\n",
    "                                                    **feature_parameters)\n",
    "print(\"Extracted features from {} non-vehicle images\".format(len(non_vehicle_features)))\n",
    "\n",
    "X = np.vstack((vehicle_features, non_vehicle_features)).astype(np.float64)\n",
    "y = np.hstack((np.ones(len(vehicle_features)), np.zeros(len(non_vehicle_features))))\n",
    "\n",
    "X_train, X_test, y_train, y_test = train_test_split(X, y, test_size=0.2)\n",
    "\n",
    "scaler = StandardScaler().fit(X_train)\n",
    "X_train = scaler.transform(X_train)\n",
    "X_test = scaler.transform(X_test)\n",
    "\n",
    "# Training the data using SVM\n",
    "print(\"Training...\")\n",
    "svc = LinearSVC()\n",
    "svc.fit(X_train, y_train)\n",
    "\n",
    "positives = y_test.nonzero()\n",
    "negatives = np.logical_not(y_test).nonzero()\n",
    "tp = svc.score(X_test[positives], y_test[positives])\n",
    "tn = svc.score(X_test[negatives], y_test[negatives])\n",
    "\n",
    "# Get the positive and negative rates\n",
    "print('True Positive Rate:  {:.2f}%'.format(100*tp))\n",
    "print('True Negative Rate:  {:.2f}%'.format(100*tn))\n",
    "print('False Positive Rate: {:.2f}%'.format(100*(1-tn)))\n",
    "print('False Negative Rate: {:.2f}%'.format(100*(1-tp)))\n",
    "\n",
    "# Save the classifier trained into the pickle file \"classifier.p\"\n",
    "print('Pickling classifier to classifier.p')\n",
    "with open('classifier.p', 'wb') as f:\n",
    "    data = {\n",
    "        'feature_parameters': feature_parameters,\n",
    "        'classifier': svc,\n",
    "        'shape': (64, 64),\n",
    "        'scaler': scaler\n",
    "    }\n",
    "    pickle.dump(data, f)"
   ]
  },
  {
   "cell_type": "markdown",
   "metadata": {},
   "source": [
    "# Detecting Vehicles and Saving Results\n",
    "The vehicles on the lane are detected using the detected class functions of the `detector.py` file.\n",
    "Once these cars are detected, the output is done on the fly to either the video or image fil"
   ]
  },
  {
   "cell_type": "code",
   "execution_count": 18,
   "metadata": {
    "collapsed": false
   },
   "outputs": [
    {
     "name": "stdout",
     "output_type": "stream",
     "text": [
      "Loading classifier from pickle classifier.p\n",
      "Feature parameters:\n",
      "{'spatial_size': (32, 32), 'hog_channel': 'ALL', 'hog_cell_per_block': 2, 'hog_pix_per_cell': 8, 'cspace': 'YCrCb', 'hist_bins': 32, 'hog_orient': 9}\n",
      "Loading ./test_images/test4.jpg as a YCrCb image\n",
      "Detecting vehicles\n",
      "[((812, 376), (951, 513)), ((1072, 388), (1247, 527))]\n",
      "Writing output to ./output_images/test4.jpg\n"
     ]
    }
   ],
   "source": [
    "# Useful variables\n",
    "## Image or video file to process\n",
    "input_file = './test_images/test4.jpg'\n",
    "\n",
    "## Output file with boxes drawn\n",
    "output_file = './output_images/test4.jpg'\n",
    "\n",
    "## Tweaking parameters \n",
    "### (Heatmap value to activate & alpha value for heatmap smoothing filter)\n",
    "smoothing = 0.125\n",
    "heat_threshold = 2.25\n",
    "\n",
    "## Beginning and end times of video\n",
    "subclip = []\n",
    "\n",
    "# Get the previously classifier pickle file\n",
    "print('Loading classifier from pickle classifier.p')\n",
    "with open('classifier.p', 'rb') as f:\n",
    "    data = pickle.load(f)\n",
    "    classifier = data['classifier']\n",
    "    feature_parameters = data['feature_parameters']\n",
    "    window_shape = data['shape']\n",
    "    scaler = data['scaler']\n",
    "\n",
    "print('Feature parameters:')\n",
    "print(feature_parameters)\n",
    "\n",
    "file_extension = input_file.split('.')[-1].lower()\n",
    "\n",
    "if file_extension in ['jpg', 'png']:\n",
    "    detector = Detector(classifier, feature_parameters, window_shape, scaler, heat_threshold)\n",
    "\n",
    "    print('Loading ' + input_file + ' as a ' + feature_parameters['cspace'] + ' image')\n",
    "    img = read_image(input_file, feature_parameters['cspace'])\n",
    "    output_to_file = output_file and len(output_file)\n",
    "\n",
    "    print('Detecting vehicles')\n",
    "    boxes = detector(img, show_plots=(not output_to_file))\n",
    "    print(boxes)\n",
    "    output = draw_boxes(rgb(img, feature_parameters['cspace']), boxes)\n",
    "\n",
    "    if output_to_file:\n",
    "        print('Writing output to ' + output_file)\n",
    "        write_image(output_file, output, 'RGB')\n",
    "    else:\n",
    "        plt.figure()\n",
    "        plt.title(input_file)\n",
    "        plt.imshow(output)\n",
    "        plt.show()\n",
    "\n",
    "elif file_extension in ['mp4']:\n",
    "    detector = Detector(classifier, feature_parameters, window_shape, scaler, heat_threshold, alpha=smoothing)\n",
    "\n",
    "    def frame_handler(frame):\n",
    "        boxes = detector(convert_video_frame(frame, feature_parameters['cspace']))\n",
    "        output = draw_boxes(frame, boxes)\n",
    "        return output\n",
    "\n",
    "    clip = VideoFileClip(input_file)\n",
    "\n",
    "    if (len(subclip) > 0):\n",
    "        clip = clip.subclip(subclip[0], subclip[1])\n",
    "    clip = clip.fl_image(frame_handler)\n",
    "\n",
    "    print(\"Writing video file to {}\".format(output_file))\n",
    "    clip.write_videofile(output_file, audio=False)\n",
    "    print(\"Done\")\n",
    "else:\n",
    "    raise Exception('Unidentified file extension' + file_extension)"
   ]
  },
  {
   "cell_type": "code",
   "execution_count": null,
   "metadata": {
    "collapsed": true
   },
   "outputs": [],
   "source": []
  }
 ],
 "metadata": {
  "anaconda-cloud": {},
  "kernelspec": {
   "display_name": "Python [conda env:carnd-term1]",
   "language": "python",
   "name": "conda-env-carnd-term1-py"
  },
  "language_info": {
   "codemirror_mode": {
    "name": "ipython",
    "version": 3
   },
   "file_extension": ".py",
   "mimetype": "text/x-python",
   "name": "python",
   "nbconvert_exporter": "python",
   "pygments_lexer": "ipython3",
   "version": "3.5.2"
  }
 },
 "nbformat": 4,
 "nbformat_minor": 1
}
